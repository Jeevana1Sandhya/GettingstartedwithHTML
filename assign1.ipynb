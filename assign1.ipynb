{
  "nbformat": 4,
  "nbformat_minor": 0,
  "metadata": {
    "colab": {
      "provenance": []
    },
    "kernelspec": {
      "name": "python3",
      "display_name": "Python 3"
    },
    "language_info": {
      "name": "python"
    }
  },
  "cells": [
    {
      "cell_type": "code",
      "execution_count": null,
      "metadata": {
        "id": "oJraIynuVUZe"
      },
      "outputs": [],
      "source": [
        "#1.write a simple program in HTML that displays the heading \"HTML defines the content and structure of your website\" on your webbrowser?\n",
        "\"\"\"\n",
        "<html>\n",
        "<body>\n",
        "<h1>HTML defines the content and structure of your website</h1>\n",
        "</body>\n",
        "</html>\n",
        "\"\"\""
      ]
    },
    {
      "cell_type": "markdown",
      "source": [
        "# **2. Explain the purpose of comments in HTML and provide an example of how to use comments in an HTML document**\n",
        "   - comments are used when you wanted to write something about the code but donot want to display in the webpage\n",
        "   - These comments are for developers who are working on the same code to understand the particular block of code.\n",
        "   - Syntax:  <!-- This is the single line comment in HTML-->\n",
        "   -Example:\n",
        "   <!DOCTYPE html>\n",
        "<html>\n",
        "<head>\n",
        "    <title>Comment Example</title>\n",
        "</head>\n",
        "<body>\n",
        "    <!-- This is the main heading of the page -->\n",
        "    <h1>Welcome to My Website</h1>\n",
        "\n",
        "    <!-- Below is a paragraph describing the site -->\n",
        "    <p>This website is a simple example of using HTML comments.</p>\n",
        "</body>\n",
        "</html>"
      ],
      "metadata": {
        "id": "fTKH1tOlX1-T"
      }
    },
    {
      "cell_type": "code",
      "source": [
        "#3.write an HTML program that includes a heading, a paragraph of text, a horizontal line, and a line break. Arrange these elements in to create a simple webpage layout?\n",
        "\"\"\"\n",
        "<!DOCTYPE html>\n",
        "<html>\n",
        "<head>\n",
        "    <title>Simple Webpage Layout</title>\n",
        "</head>\n",
        "<body>\n",
        "    <h1>Welcome to My Simple Webpage</h1>\n",
        "    <hr>\n",
        "    <p>\n",
        "        This is a basic example of how HTML elements work together.<br>\n",
        "        We can use headings, paragraphs, horizontal lines, and line breaks to structure content clearly.\n",
        "    </p>\n",
        "</body>\n",
        "</html>\n",
        "\n",
        "\"\"\""
      ],
      "metadata": {
        "id": "Kwv9EAiUX4Vo"
      },
      "execution_count": null,
      "outputs": []
    },
    {
      "cell_type": "markdown",
      "source": [
        "# **4. Write a short note on Tag and element with an example?**\n",
        "  - Tag is a keyword which tells the browser how to structure or format the content in the webpage\n",
        "  - Tag consists of opening tag and closing tag\n",
        "  - opening tag consists of the less than symbol followed by a tag name and greaterthan symbol\n",
        "  - closing tag consists of the less than symbol followed by the forward slash, tagname and the greater than symbol\n",
        "  - If there is no closing tag then it wont consider\n",
        "  - Example:\n",
        "    <openingtag>\n",
        "    </closingtag>\n",
        "  \n",
        "  - Element is a combination of opening tag, content and closing tag.\n",
        "  - Element is the building block of HTML.\n",
        "  - i.e, Element: openingtag+content+closingtag\n",
        "  - If there is no closing tag in the element then the element will have only opening tag.\n",
        "  - Example:\n",
        "    <opening> content <closingtag>\n",
        "\n",
        "# **5.What is the DOCTYPE declaration in HTML**\n",
        "- DOCTYPE declaration in HTML tells the webbrowser that it is a html file.\n",
        "- It tells the browser which type of file that the browser should expect.\n",
        "- It appears only once at the top of the html code.\n",
        "- DOCTYPE is not case sensitive.\n",
        "    - <!DOCTYPE html>\n",
        "    - <!doctype html>\n",
        "    - <!Doctype html>\n",
        "    - <!DocType html>\n",
        "                              "
      ],
      "metadata": {
        "id": "0WaiAZQ3fIgp"
      }
    }
  ]
}